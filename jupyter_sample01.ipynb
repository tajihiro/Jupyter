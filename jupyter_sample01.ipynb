{
 "cells": [
  {
   "cell_type": "code",
   "execution_count": 1,
   "metadata": {},
   "outputs": [
    {
     "name": "stdout",
     "output_type": "stream",
     "text": [
      "こんにちは。たぢさん。\n"
     ]
    }
   ],
   "source": [
    "print(\"こんにちは。たぢさん。\")"
   ]
  },
  {
   "cell_type": "code",
   "execution_count": null,
   "metadata": {},
   "outputs": [],
   "source": [
    "import os\n",
    "import pandas as pd\n",
    "\n",
    "# 表示設定\n",
    "pd.set_option('display.width', 1200)\n",
    "pd.set_option('display.max_columns', 100)\n",
    "\n",
    "base_url = 'https://raw.githubusercontent.com/practical-jupyter/sample-data/master/anime/'\n",
    "anime_csv = os.path.join(base_url, 'anime.csv')\n",
    "\n",
    "df = pd.read_csv(anime_csv)\n",
    "df.loc[:, 'option'] = 'AAA'\n",
    "print(df.loc[df['episodes'] == 'Unknown'].head())\n",
    "\n",
    "print(df.head())\n"
   ]
  },
  {
   "cell_type": "markdown",
   "metadata": {},
   "source": [
    "# Pandasの利用方法\n",
    "## Pandas\n",
    "\n",
    "- Pandas\n",
    "\n",
    "- Pandas\n",
    "\n",
    "```\n",
    "\n",
    "Pandas code\n",
    "\n",
    "```\n",
    "\n",
    "`Pandas`\n",
    "\n",
    "pandas | pandas\n",
    "-- | --\n",
    "pandas | pandas\n",
    "\n"
   ]
  },
  {
   "cell_type": "code",
   "execution_count": 15,
   "metadata": {},
   "outputs": [
    {
     "name": "stdout",
     "output_type": "stream",
     "text": [
      "['/Users/tajihiro/Works/Jupyter']\n",
      "['Angular', 'Angular2', 'AngularTest', 'Atom', 'Awk', 'Blowfish', 'CS', 'Ceylon', 'Cordova', 'DFV']\n",
      "CPU times: user 3 µs, sys: 1e+03 ns, total: 4 µs\n",
      "Wall time: 7.87 µs\n",
      "None\n"
     ]
    }
   ],
   "source": [
    "d  = !pwd\n",
    "print(d)\n",
    "\n",
    "file_list = !ls '/Users/tajihiro/Works'\n",
    "print(file_list[0:10])\n",
    "\n",
    "t = %time\n",
    "print(t)\n"
   ]
  },
  {
   "cell_type": "code",
   "execution_count": null,
   "metadata": {},
   "outputs": [],
   "source": []
  },
  {
   "cell_type": "code",
   "execution_count": null,
   "metadata": {},
   "outputs": [],
   "source": []
  }
 ],
 "metadata": {
  "kernelspec": {
   "display_name": "Python 3",
   "language": "python",
   "name": "python3"
  },
  "language_info": {
   "codemirror_mode": {
    "name": "ipython",
    "version": 3
   },
   "file_extension": ".py",
   "mimetype": "text/x-python",
   "name": "python",
   "nbconvert_exporter": "python",
   "pygments_lexer": "ipython3",
   "version": "3.7.0"
  }
 },
 "nbformat": 4,
 "nbformat_minor": 2
}
